{
 "cells": [
  {
   "cell_type": "code",
   "execution_count": 94,
   "metadata": {},
   "outputs": [],
   "source": [
    "import warnings\n",
    "import matplotlib.pyplot as plt\n",
    "import seaborn as sns\n",
    "import pandas as pd\n",
    "import spacy\n",
    "import tensorflow as tf\n",
    "from tensorflow.keras import regularizers\n",
    "from sklearn.model_selection import train_test_split\n",
    "from sklearn.metrics import confusion_matrix, classification_report\n",
    "from spacy.lang.en.stop_words import STOP_WORDS\n",
    "\n",
    "warnings.filterwarnings('ignore')"
   ]
  },
  {
   "cell_type": "code",
   "execution_count": 95,
   "metadata": {},
   "outputs": [],
   "source": [
    "# Load the dataset \n",
    "df = pd.read_csv(\"https://full-stack-bigdata-datasets.s3.eu-west-3.amazonaws.com/Deep+Learning/project/spam.csv\", error_bad_lines=False, encoding=\"ISO-8859-1\")"
   ]
  },
  {
   "cell_type": "code",
   "execution_count": 96,
   "metadata": {},
   "outputs": [
    {
     "name": "stdout",
     "output_type": "stream",
     "text": [
      "<class 'pandas.core.frame.DataFrame'>\n",
      "RangeIndex: 5572 entries, 0 to 5571\n",
      "Data columns (total 5 columns):\n",
      " #   Column      Non-Null Count  Dtype \n",
      "---  ------      --------------  ----- \n",
      " 0   v1          5572 non-null   object\n",
      " 1   v2          5572 non-null   object\n",
      " 2   Unnamed: 2  50 non-null     object\n",
      " 3   Unnamed: 3  12 non-null     object\n",
      " 4   Unnamed: 4  6 non-null      object\n",
      "dtypes: object(5)\n",
      "memory usage: 217.8+ KB\n",
      "None\n",
      "          v1                      v2  \\\n",
      "count   5572                    5572   \n",
      "unique     2                    5169   \n",
      "top      ham  Sorry, I'll call later   \n",
      "freq    4825                      30   \n",
      "\n",
      "                                               Unnamed: 2  \\\n",
      "count                                                  50   \n",
      "unique                                                 43   \n",
      "top      bt not his girlfrnd... G o o d n i g h t . . .@\"   \n",
      "freq                                                    3   \n",
      "\n",
      "                   Unnamed: 3 Unnamed: 4  \n",
      "count                      12          6  \n",
      "unique                     10          5  \n",
      "top      MK17 92H. 450Ppw 16\"    GNT:-)\"  \n",
      "freq                        2          2  \n"
     ]
    }
   ],
   "source": [
    "# Display basic information about the dataset\n",
    "print(df.info())\n",
    "print(df.describe(include='all'))"
   ]
  },
  {
   "cell_type": "code",
   "execution_count": 97,
   "metadata": {},
   "outputs": [
    {
     "data": {
      "text/html": [
       "<div>\n",
       "<style scoped>\n",
       "    .dataframe tbody tr th:only-of-type {\n",
       "        vertical-align: middle;\n",
       "    }\n",
       "\n",
       "    .dataframe tbody tr th {\n",
       "        vertical-align: top;\n",
       "    }\n",
       "\n",
       "    .dataframe thead th {\n",
       "        text-align: right;\n",
       "    }\n",
       "</style>\n",
       "<table border=\"1\" class=\"dataframe\">\n",
       "  <thead>\n",
       "    <tr style=\"text-align: right;\">\n",
       "      <th></th>\n",
       "      <th>Total</th>\n",
       "      <th>Percent</th>\n",
       "    </tr>\n",
       "  </thead>\n",
       "  <tbody>\n",
       "    <tr>\n",
       "      <th>Unnamed: 4</th>\n",
       "      <td>5566</td>\n",
       "      <td>99.892319</td>\n",
       "    </tr>\n",
       "    <tr>\n",
       "      <th>Unnamed: 3</th>\n",
       "      <td>5560</td>\n",
       "      <td>99.784637</td>\n",
       "    </tr>\n",
       "    <tr>\n",
       "      <th>Unnamed: 2</th>\n",
       "      <td>5522</td>\n",
       "      <td>99.102656</td>\n",
       "    </tr>\n",
       "    <tr>\n",
       "      <th>v1</th>\n",
       "      <td>0</td>\n",
       "      <td>0.000000</td>\n",
       "    </tr>\n",
       "    <tr>\n",
       "      <th>v2</th>\n",
       "      <td>0</td>\n",
       "      <td>0.000000</td>\n",
       "    </tr>\n",
       "  </tbody>\n",
       "</table>\n",
       "</div>"
      ],
      "text/plain": [
       "            Total    Percent\n",
       "Unnamed: 4   5566  99.892319\n",
       "Unnamed: 3   5560  99.784637\n",
       "Unnamed: 2   5522  99.102656\n",
       "v1              0   0.000000\n",
       "v2              0   0.000000"
      ]
     },
     "execution_count": 97,
     "metadata": {},
     "output_type": "execute_result"
    }
   ],
   "source": [
    "# Amount of missing values\n",
    "def missing_values(df, norows):   # input by the df and the number of rows that you want to show  \n",
    "    total = df.isnull().sum().sort_values(ascending=False)  \n",
    "    percent = ((df.isnull().sum().sort_values(ascending=False)/df.shape[0])*100).sort_values(ascending=False)  \n",
    "    missing_data = pd.concat([total, percent], axis=1, keys=['Total', 'Percent'])  \n",
    "    return(missing_data.head(norows))  \n",
    "  \n",
    "missing_values(df,20) # we use the df and the number of rows to show is 20"
   ]
  },
  {
   "cell_type": "code",
   "execution_count": 98,
   "metadata": {},
   "outputs": [],
   "source": [
    "# Remove useless columns and rename v1 and v2 columns\n",
    "df = df.rename(columns={\"v1\": \"type\", \"v2\": \"message\"})\n",
    "df = df.drop([\"Unnamed: 2\", \"Unnamed: 3\", \"Unnamed: 4\"], axis=1)"
   ]
  },
  {
   "cell_type": "code",
   "execution_count": 99,
   "metadata": {},
   "outputs": [
    {
     "data": {
      "image/png": "[encoded data removed]",
      "text/plain": [
       "<Figure size 800x600 with 1 Axes>"
      ]
     },
     "metadata": {},
     "output_type": "display_data"
    }
   ],
   "source": [
    "# Visualize the distribution of spam and ham messages\n",
    "plt.figure(figsize=(8, 6))\n",
    "sns.countplot(x='type', data=df)\n",
    "plt.title('Distribution of Spam and Ham Messages')\n",
    "plt.xlabel('Message Type')\n",
    "plt.ylabel('Count')\n",
    "plt.show()"
   ]
  },
  {
   "cell_type": "code",
   "execution_count": 100,
   "metadata": {},
   "outputs": [],
   "source": [
    "# Change dtype of type column to category\n",
    "df = df.astype({\"type\": \"category\"})\n",
    "\n",
    "# Drop duplicates\n",
    "df.drop_duplicates(inplace=True)\n",
    "\n",
    "# Replace ham and spam by 0 and 1\n",
    "df['type'] = df['type'].map({'ham': 0, 'spam': 1})"
   ]
  },
  {
   "cell_type": "code",
   "execution_count": 101,
   "metadata": {},
   "outputs": [
    {
     "data": {
      "text/html": [
       "<div>\n",
       "<style scoped>\n",
       "    .dataframe tbody tr th:only-of-type {\n",
       "        vertical-align: middle;\n",
       "    }\n",
       "\n",
       "    .dataframe tbody tr th {\n",
       "        vertical-align: top;\n",
       "    }\n",
       "\n",
       "    .dataframe thead th {\n",
       "        text-align: right;\n",
       "    }\n",
       "</style>\n",
       "<table border=\"1\" class=\"dataframe\">\n",
       "  <thead>\n",
       "    <tr style=\"text-align: right;\">\n",
       "      <th></th>\n",
       "      <th>type</th>\n",
       "      <th>message</th>\n",
       "      <th>mail_cleaned</th>\n",
       "    </tr>\n",
       "  </thead>\n",
       "  <tbody>\n",
       "    <tr>\n",
       "      <th>0</th>\n",
       "      <td>0</td>\n",
       "      <td>Go until jurong point, crazy.. Available only ...</td>\n",
       "      <td>jurong point crazy available bugis n great wor...</td>\n",
       "    </tr>\n",
       "    <tr>\n",
       "      <th>1</th>\n",
       "      <td>0</td>\n",
       "      <td>Ok lar... Joking wif u oni...</td>\n",
       "      <td>ok lar joke wif u oni</td>\n",
       "    </tr>\n",
       "    <tr>\n",
       "      <th>2</th>\n",
       "      <td>1</td>\n",
       "      <td>Free entry in 2 a wkly comp to win FA Cup fina...</td>\n",
       "      <td>free entry 2 wkly comp win fa cup final tkts 2...</td>\n",
       "    </tr>\n",
       "    <tr>\n",
       "      <th>3</th>\n",
       "      <td>0</td>\n",
       "      <td>U dun say so early hor... U c already then say...</td>\n",
       "      <td>u dun early hor u c</td>\n",
       "    </tr>\n",
       "    <tr>\n",
       "      <th>4</th>\n",
       "      <td>0</td>\n",
       "      <td>Nah I don't think he goes to usf, he lives aro...</td>\n",
       "      <td>nah think usf live</td>\n",
       "    </tr>\n",
       "  </tbody>\n",
       "</table>\n",
       "</div>"
      ],
      "text/plain": [
       "  type                                            message  \\\n",
       "0    0  Go until jurong point, crazy.. Available only ...   \n",
       "1    0                      Ok lar... Joking wif u oni...   \n",
       "2    1  Free entry in 2 a wkly comp to win FA Cup fina...   \n",
       "3    0  U dun say so early hor... U c already then say...   \n",
       "4    0  Nah I don't think he goes to usf, he lives aro...   \n",
       "\n",
       "                                        mail_cleaned  \n",
       "0  jurong point crazy available bugis n great wor...  \n",
       "1                              ok lar joke wif u oni  \n",
       "2  free entry 2 wkly comp win fa cup final tkts 2...  \n",
       "3                                u dun early hor u c  \n",
       "4                                 nah think usf live  "
      ]
     },
     "execution_count": 101,
     "metadata": {},
     "output_type": "execute_result"
    }
   ],
   "source": [
    "# Preprocessing - cleaning the text\n",
    "nlp = spacy.load('en_core_web_md')\n",
    "\n",
    "# Remove special characters, convert to lowercase, and lemmatize words\n",
    "df['mail_cleaned'] = (\n",
    "    df['message']\n",
    "    .apply(lambda x:''.join(ch for ch in x if ch.isalnum() or ch==\" \" or ch==\"'\"))\n",
    "    .str.lower()\n",
    "    .str.strip()\n",
    "    .str.replace('\\s\\s+', ' ')\n",
    "    .apply(lambda x: \" \".join([token.lemma_ for token in nlp(x) if (token.lemma_ not in STOP_WORDS) and (token.text not in STOP_WORDS)]))\n",
    ")\n",
    "\n",
    "df.head()"
   ]
  },
  {
   "cell_type": "code",
   "execution_count": 102,
   "metadata": {},
   "outputs": [
    {
     "data": {
      "text/html": [
       "<div>\n",
       "<style scoped>\n",
       "    .dataframe tbody tr th:only-of-type {\n",
       "        vertical-align: middle;\n",
       "    }\n",
       "\n",
       "    .dataframe tbody tr th {\n",
       "        vertical-align: top;\n",
       "    }\n",
       "\n",
       "    .dataframe thead th {\n",
       "        text-align: right;\n",
       "    }\n",
       "</style>\n",
       "<table border=\"1\" class=\"dataframe\">\n",
       "  <thead>\n",
       "    <tr style=\"text-align: right;\">\n",
       "      <th></th>\n",
       "      <th>type</th>\n",
       "      <th>message</th>\n",
       "      <th>mail_cleaned</th>\n",
       "      <th>mail_encoded</th>\n",
       "    </tr>\n",
       "  </thead>\n",
       "  <tbody>\n",
       "    <tr>\n",
       "      <th>0</th>\n",
       "      <td>0</td>\n",
       "      <td>Go until jurong point, crazy.. Available only ...</td>\n",
       "      <td>jurong point crazy available bugis n great wor...</td>\n",
       "      <td>[1, 214, 409, 485, 845, 32, 52, 264, 846, 74, ...</td>\n",
       "    </tr>\n",
       "    <tr>\n",
       "      <th>1</th>\n",
       "      <td>0</td>\n",
       "      <td>Ok lar... Joking wif u oni...</td>\n",
       "      <td>ok lar joke wif u oni</td>\n",
       "      <td>[10, 176, 486, 265, 2, 1]</td>\n",
       "    </tr>\n",
       "    <tr>\n",
       "      <th>2</th>\n",
       "      <td>1</td>\n",
       "      <td>Free entry in 2 a wkly comp to win FA Cup fina...</td>\n",
       "      <td>free entry 2 wkly comp win fa cup final tkts 2...</td>\n",
       "      <td>[11, 338, 3, 698, 699, 39, 1, 976, 458, 1, 1, ...</td>\n",
       "    </tr>\n",
       "    <tr>\n",
       "      <th>3</th>\n",
       "      <td>0</td>\n",
       "      <td>U dun say so early hor... U c already then say...</td>\n",
       "      <td>u dun early hor u c</td>\n",
       "      <td>[2, 114, 135, 1, 2, 78]</td>\n",
       "    </tr>\n",
       "    <tr>\n",
       "      <th>4</th>\n",
       "      <td>0</td>\n",
       "      <td>Nah I don't think he goes to usf, he lives aro...</td>\n",
       "      <td>nah think usf live</td>\n",
       "      <td>[662, 20, 597, 147]</td>\n",
       "    </tr>\n",
       "  </tbody>\n",
       "</table>\n",
       "</div>"
      ],
      "text/plain": [
       "  type                                            message  \\\n",
       "0    0  Go until jurong point, crazy.. Available only ...   \n",
       "1    0                      Ok lar... Joking wif u oni...   \n",
       "2    1  Free entry in 2 a wkly comp to win FA Cup fina...   \n",
       "3    0  U dun say so early hor... U c already then say...   \n",
       "4    0  Nah I don't think he goes to usf, he lives aro...   \n",
       "\n",
       "                                        mail_cleaned  \\\n",
       "0  jurong point crazy available bugis n great wor...   \n",
       "1                              ok lar joke wif u oni   \n",
       "2  free entry 2 wkly comp win fa cup final tkts 2...   \n",
       "3                                u dun early hor u c   \n",
       "4                                 nah think usf live   \n",
       "\n",
       "                                        mail_encoded  \n",
       "0  [1, 214, 409, 485, 845, 32, 52, 264, 846, 74, ...  \n",
       "1                          [10, 176, 486, 265, 2, 1]  \n",
       "2  [11, 338, 3, 698, 699, 39, 1, 976, 458, 1, 1, ...  \n",
       "3                            [2, 114, 135, 1, 2, 78]  \n",
       "4                                [662, 20, 597, 147]  "
      ]
     },
     "execution_count": 102,
     "metadata": {},
     "output_type": "execute_result"
    }
   ],
   "source": [
    "# Tokenize the cleaned text\n",
    "tokenizer = tf.keras.preprocessing.text.Tokenizer(num_words=1000, oov_token=\"out_of_vocab\")\n",
    "tokenizer.fit_on_texts(df.mail_cleaned)\n",
    "df[\"mail_encoded\"] = tokenizer.texts_to_sequences(df.mail_cleaned)\n",
    "df.head()"
   ]
  },
  {
   "cell_type": "code",
   "execution_count": 103,
   "metadata": {},
   "outputs": [
    {
     "data": {
      "text/html": [
       "<style>\n",
       "        .bk-notebook-logo {\n",
       "            display: block;\n",
       "            width: 20px;\n",
       "            height: 20px;\n",
       "            background-image: url(data:image/png;base64,iVBORw0KGgoAAAANSUhEUgAAABQAAAAUCAYAAACNiR0NAAAABHNCSVQICAgIfAhkiAAAAAlwSFlzAAALEgAACxIB0t1+/AAAABx0RVh0U29mdHdhcmUAQWRvYmUgRmlyZXdvcmtzIENTNui8sowAAAOkSURBVDiNjZRtaJVlGMd/1/08zzln5zjP1LWcU9N0NkN8m2CYjpgQYQXqSs0I84OLIC0hkEKoPtiH3gmKoiJDU7QpLgoLjLIQCpEsNJ1vqUOdO7ppbuec5+V+rj4ctwzd8IIbbi6u+8f1539dt3A78eXC7QizUF7gyV1fD1Yqg4JWz84yffhm0qkFqBogB9rM8tZdtwVsPUhWhGcFJngGeWrPzHm5oaMmkfEg1usvLFyc8jLRqDOMru7AyC8saQr7GG7f5fvDeH7Ej8CM66nIF+8yngt6HWaKh7k49Soy9nXurCi1o3qUbS3zWfrYeQDTB/Qj6kX6Ybhw4B+bOYoLKCC9H3Nu/leUTZ1JdRWkkn2ldcCamzrcf47KKXdAJllSlxAOkRgyHsGC/zRday5Qld9DyoM4/q/rUoy/CXh3jzOu3bHUVZeU+DEn8FInkPBFlu3+nW3Nw0mk6vCDiWg8CeJaxEwuHS3+z5RgY+YBR6V1Z1nxSOfoaPa4LASWxxdNp+VWTk7+4vzaou8v8PN+xo+KY2xsw6une2frhw05CTYOmQvsEhjhWjn0bmXPjpE1+kplmmkP3suftwTubK9Vq22qKmrBhpY4jvd5afdRA3wGjFAgcnTK2s4hY0/GPNIb0nErGMCRxWOOX64Z8RAC4oCXdklmEvcL8o0BfkNK4lUg9HTl+oPlQxdNo3Mg4Nv175e/1LDGzZen30MEjRUtmXSfiTVu1kK8W4txyV6BMKlbgk3lMwYCiusNy9fVfvvwMxv8Ynl6vxoByANLTWplvuj/nF9m2+PDtt1eiHPBr1oIfhCChQMBw6Aw0UulqTKZdfVvfG7VcfIqLG9bcldL/+pdWTLxLUy8Qq38heUIjh4XlzZxzQm19lLFlr8vdQ97rjZVOLf8nclzckbcD4wxXMidpX30sFd37Fv/GtwwhzhxGVAprjbg0gCAEeIgwCZyTV2Z1REEW8O4py0wsjeloKoMr6iCY6dP92H6Vw/oTyICIthibxjm/DfN9lVz8IqtqKYLUXfoKVMVQVVJOElGjrnnUt9T9wbgp8AyYKaGlqingHZU/uG2NTZSVqwHQTWkx9hxjkpWDaCg6Ckj5qebgBVbT3V3NNXMSiWSDdGV3hrtzla7J+duwPOToIg42ChPQOQjspnSlp1V+Gjdged7+8UN5CRAV7a5EdFNwCjEaBR27b3W890TE7g24NAP/mMDXRWrGoFPQI9ls/MWO2dWFAar/xcOIImbbpA3zgAAAABJRU5ErkJggg==);\n",
       "        }\n",
       "    </style>\n",
       "    <div>\n",
       "        <a href=\"https://bokeh.org\" target=\"_blank\" class=\"bk-notebook-logo\"></a>\n",
       "        <span id=\"p1659\">Loading BokehJS ...</span>\n",
       "    </div>\n"
      ]
     },
     "metadata": {},
     "output_type": "display_data"
    },
    {
     "data": {
      "application/javascript": "(function(root) {\n  function now() {\n    return new Date();\n  }\n\n  const force = true;\n\n  if (typeof root._bokeh_onload_callbacks === \"undefined\" || force === true) {\n    root._bokeh_onload_callbacks = [];\n    root._bokeh_is_loading = undefined;\n  }\n\nconst JS_MIME_TYPE = 'application/javascript';\n  const HTML_MIME_TYPE = 'text/html';\n  const EXEC_MIME_TYPE = 'application/vnd.bokehjs_exec.v0+json';\n  const CLASS_NAME = 'output_bokeh rendered_html';\n\n  /**\n   * Render data to the DOM node\n   */\n  function render(props, node) {\n    const script = document.createElement(\"script\");\n    node.appendChild(script);\n  }\n\n  /**\n   * Handle when an output is cleared or removed\n   */\n  function handleClearOutput(event, handle) {\n    const cell = handle.cell;\n\n    const id = cell.output_area._bokeh_element_id;\n    const server_id = cell.output_area._bokeh_server_id;\n    // Clean up Bokeh references\n    if (id != null && id in Bokeh.index) {\n      Bokeh.index[id].model.document.clear();\n      delete Bokeh.index[id];\n    }\n\n    if (server_id !== undefined) {\n      // Clean up Bokeh references\n      const cmd_clean = \"from bokeh.io.state import curstate; print(curstate().uuid_to_server['\" + server_id + \"'].get_sessions()[0].document.roots[0]._id)\";\n      cell.notebook.kernel.execute(cmd_clean, {\n        iopub: {\n          output: function(msg) {\n            const id = msg.content.text.trim();\n            if (id in Bokeh.index) {\n              Bokeh.index[id].model.document.clear();\n              delete Bokeh.index[id];\n            }\n          }\n        }\n      });\n      // Destroy server and session\n      const cmd_destroy = \"import bokeh.io.notebook as ion; ion.destroy_server('\" + server_id + \"')\";\n      cell.notebook.kernel.execute(cmd_destroy);\n    }\n  }\n\n  /**\n   * Handle when a new output is added\n   */\n  function handleAddOutput(event, handle) {\n    const output_area = handle.output_area;\n    const output = handle.output;\n\n    // limit handleAddOutput to display_data with EXEC_MIME_TYPE content only\n    if ((output.output_type != \"display_data\") || (!Object.prototype.hasOwnProperty.call(output.data, EXEC_MIME_TYPE))) {\n      return\n    }\n\n    const toinsert = output_area.element.find(\".\" + CLASS_NAME.split(' ')[0]);\n\n    if (output.metadata[EXEC_MIME_TYPE][\"id\"] !== undefined) {\n      toinsert[toinsert.length - 1].firstChild.textContent = output.data[JS_MIME_TYPE];\n      // store reference to embed id on output_area\n      output_area._bokeh_element_id = output.metadata[EXEC_MIME_TYPE][\"id\"];\n    }\n    if (output.metadata[EXEC_MIME_TYPE][\"server_id\"] !== undefined) {\n      const bk_div = document.createElement(\"div\");\n      bk_div.innerHTML = output.data[HTML_MIME_TYPE];\n      const script_attrs = bk_div.children[0].attributes;\n      for (let i = 0; i < script_attrs.length; i++) {\n        toinsert[toinsert.length - 1].firstChild.setAttribute(script_attrs[i].name, script_attrs[i].value);\n        toinsert[toinsert.length - 1].firstChild.textContent = bk_div.children[0].textContent\n      }\n      // store reference to server id on output_area\n      output_area._bokeh_server_id = output.metadata[EXEC_MIME_TYPE][\"server_id\"];\n    }\n  }\n\n  function register_renderer(events, OutputArea) {\n\n    function append_mime(data, metadata, element) {\n      // create a DOM node to render to\n      const toinsert = this.create_output_subarea(\n        metadata,\n        CLASS_NAME,\n        EXEC_MIME_TYPE\n      );\n      this.keyboard_manager.register_events(toinsert);\n      // Render to node\n      const props = {data: data, metadata: metadata[EXEC_MIME_TYPE]};\n      render(props, toinsert[toinsert.length - 1]);\n      element.append(toinsert);\n      return toinsert\n    }\n\n    /* Handle when an output is cleared or removed */\n    events.on('clear_output.CodeCell', handleClearOutput);\n    events.on('delete.Cell', handleClearOutput);\n\n    /* Handle when a new output is added */\n    events.on('output_added.OutputArea', handleAddOutput);\n\n    /**\n     * Register the mime type and append_mime function with output_area\n     */\n    OutputArea.prototype.register_mime_type(EXEC_MIME_TYPE, append_mime, {\n      /* Is output safe? */\n      safe: true,\n      /* Index of renderer in `output_area.display_order` */\n      index: 0\n    });\n  }\n\n  // register the mime type if in Jupyter Notebook environment and previously unregistered\n  if (root.Jupyter !== undefined) {\n    const events = require('base/js/events');\n    const OutputArea = require('notebook/js/outputarea').OutputArea;\n\n    if (OutputArea.prototype.mime_types().indexOf(EXEC_MIME_TYPE) == -1) {\n      register_renderer(events, OutputArea);\n    }\n  }\n  if (typeof (root._bokeh_timeout) === \"undefined\" || force === true) {\n    root._bokeh_timeout = Date.now() + 5000;\n    root._bokeh_failed_load = false;\n  }\n\n  const NB_LOAD_WARNING = {'data': {'text/html':\n     \"<div style='background-color: #fdd'>\\n\"+\n     \"<p>\\n\"+\n     \"BokehJS does not appear to have successfully loaded. If loading BokehJS from CDN, this \\n\"+\n     \"may be due to a slow or bad network connection. Possible fixes:\\n\"+\n     \"</p>\\n\"+\n     \"<ul>\\n\"+\n     \"<li>re-rerun `output_notebook()` to attempt to load from CDN again, or</li>\\n\"+\n     \"<li>use INLINE resources instead, as so:</li>\\n\"+\n     \"</ul>\\n\"+\n     \"<code>\\n\"+\n     \"from bokeh.resources import INLINE\\n\"+\n     \"output_notebook(resources=INLINE)\\n\"+\n     \"</code>\\n\"+\n     \"</div>\"}};\n\n  function display_loaded() {\n    const el = document.getElementById(\"p1659\");\n    if (el != null) {\n      el.textContent = \"BokehJS is loading...\";\n    }\n    if (root.Bokeh !== undefined) {\n      if (el != null) {\n        el.textContent = \"BokehJS \" + root.Bokeh.version + \" successfully loaded.\";\n      }\n    } else if (Date.now() < root._bokeh_timeout) {\n      setTimeout(display_loaded, 100)\n    }\n  }\n\n  function run_callbacks() {\n    try {\n      root._bokeh_onload_callbacks.forEach(function(callback) {\n        if (callback != null)\n          callback();\n      });\n    } finally {\n      delete root._bokeh_onload_callbacks\n    }\n    console.debug(\"Bokeh: all callbacks have finished\");\n  }\n\n  function load_libs(css_urls, js_urls, callback) {\n    if (css_urls == null) css_urls = [];\n    if (js_urls == null) js_urls = [];\n\n    root._bokeh_onload_callbacks.push(callback);\n    if (root._bokeh_is_loading > 0) {\n      console.debug(\"Bokeh: BokehJS is being loaded, scheduling callback at\", now());\n      return null;\n    }\n    if (js_urls == null || js_urls.length === 0) {\n      run_callbacks();\n      return null;\n    }\n    console.debug(\"Bokeh: BokehJS not loaded, scheduling load and callback at\", now());\n    root._bokeh_is_loading = css_urls.length + js_urls.length;\n\n    function on_load() {\n      root._bokeh_is_loading--;\n      if (root._bokeh_is_loading === 0) {\n        console.debug(\"Bokeh: all BokehJS libraries/stylesheets loaded\");\n        run_callbacks()\n      }\n    }\n\n    function on_error(url) {\n      console.error(\"failed to load \" + url);\n    }\n\n    for (let i = 0; i < css_urls.length; i++) {\n      const url = css_urls[i];\n      const element = document.createElement(\"link\");\n      element.onload = on_load;\n      element.onerror = on_error.bind(null, url);\n      element.rel = \"stylesheet\";\n      element.type = \"text/css\";\n      element.href = url;\n      console.debug(\"Bokeh: injecting link tag for BokehJS stylesheet: \", url);\n      document.body.appendChild(element);\n    }\n\n    for (let i = 0; i < js_urls.length; i++) {\n      const url = js_urls[i];\n      const element = document.createElement('script');\n      element.onload = on_load;\n      element.onerror = on_error.bind(null, url);\n      element.async = false;\n      element.src = url;\n      console.debug(\"Bokeh: injecting script tag for BokehJS library: \", url);\n      document.head.appendChild(element);\n    }\n  };\n\n  function inject_raw_css(css) {\n    const element = document.createElement(\"style\");\n    element.appendChild(document.createTextNode(css));\n    document.body.appendChild(element);\n  }\n\n  const js_urls = [\"https://cdn.bokeh.org/bokeh/release/bokeh-3.1.0.min.js\", \"https://cdn.bokeh.org/bokeh/release/bokeh-gl-3.1.0.min.js\", \"https://cdn.bokeh.org/bokeh/release/bokeh-widgets-3.1.0.min.js\", \"https://cdn.bokeh.org/bokeh/release/bokeh-tables-3.1.0.min.js\", \"https://cdn.bokeh.org/bokeh/release/bokeh-mathjax-3.1.0.min.js\"];\n  const css_urls = [];\n\n  const inline_js = [    function(Bokeh) {\n      Bokeh.set_log_level(\"info\");\n    },\nfunction(Bokeh) {\n    }\n  ];\n\n  function run_inline_js() {\n    if (root.Bokeh !== undefined || force === true) {\n          for (let i = 0; i < inline_js.length; i++) {\n      inline_js[i].call(root, root.Bokeh);\n    }\nif (force === true) {\n        display_loaded();\n      }} else if (Date.now() < root._bokeh_timeout) {\n      setTimeout(run_inline_js, 100);\n    } else if (!root._bokeh_failed_load) {\n      console.log(\"Bokeh: BokehJS failed to load within specified timeout.\");\n      root._bokeh_failed_load = true;\n    } else if (force !== true) {\n      const cell = $(document.getElementById(\"p1659\")).parents('.cell').data().cell;\n      cell.output_area.append_execute_result(NB_LOAD_WARNING)\n    }\n  }\n\n  if (root._bokeh_is_loading === 0) {\n    console.debug(\"Bokeh: BokehJS loaded, going straight to plotting\");\n    run_inline_js();\n  } else {\n    load_libs(css_urls, js_urls, function() {\n      console.debug(\"Bokeh: BokehJS plotting callback run at\", now());\n      run_inline_js();\n    });\n  }\n}(window));",
      "application/vnd.bokehjs_load.v0+json": ""
     },
     "metadata": {},
     "output_type": "display_data"
    },
    {
     "data": {
      "text/html": [
       "\n",
       "  <div id=\"bf8a29a3-9581-4f04-969a-dd041002e1ea\" data-root-id=\"p1660\" style=\"display: contents;\"></div>\n"
      ]
     },
     "metadata": {},
     "output_type": "display_data"
    },
    {
     "data": {
      "application/javascript": "(function(root) {\n  function embed_document(root) {\n  const docs_json = {\"fc278be2-e297-40d1-85fa-ca0a85683170\":{\"version\":\"3.1.0\",\"title\":\"Bokeh Application\",\"defs\":[],\"roots\":[{\"type\":\"object\",\"name\":\"Figure\",\"id\":\"p1660\",\"attributes\":{\"width\":800,\"height\":800,\"x_range\":{\"type\":\"object\",\"name\":\"DataRange1d\",\"id\":\"p1662\"},\"y_range\":{\"type\":\"object\",\"name\":\"DataRange1d\",\"id\":\"p1661\"},\"x_scale\":{\"type\":\"object\",\"name\":\"LinearScale\",\"id\":\"p1674\"},\"y_scale\":{\"type\":\"object\",\"name\":\"LinearScale\",\"id\":\"p1676\"},\"title\":{\"type\":\"object\",\"name\":\"Title\",\"id\":\"p1663\",\"attributes\":{\"text\":\"Top 50 Most Frequent Words\"}},\"renderers\":[{\"type\":\"object\",\"name\":\"GlyphRenderer\",\"id\":\"p1716\",\"attributes\":{\"data_source\":{\"type\":\"object\",\"name\":\"ColumnDataSource\",\"id\":\"p1707\",\"attributes\":{\"selected\":{\"type\":\"object\",\"name\":\"Selection\",\"id\":\"p1708\",\"attributes\":{\"indices\":[],\"line_indices\":[]}},\"selection_policy\":{\"type\":\"object\",\"name\":\"UnionRenderers\",\"id\":\"p1709\"},\"data\":{\"type\":\"map\",\"entries\":[[\"level_0\",{\"type\":\"ndarray\",\"array\":{\"type\":\"bytes\",\"data\":\"AAAAAAEAAAACAAAAAwAAAAQAAAAFAAAABgAAAAcAAAAIAAAACQAAAAoAAAALAAAADAAAAA0AAAAOAAAADwAAABAAAAARAAAAEgAAABMAAAAUAAAAFQAAABYAAAAXAAAAGAAAABkAAAAaAAAAGwAAABwAAAAdAAAAHgAAAB8AAAAgAAAAIQAAACIAAAAjAAAAJAAAACUAAAAmAAAAJwAAACgAAAApAAAAKgAAACsAAAAsAAAALQAAAC4AAAAvAAAAMAAAADEAAAA=\"},\"shape\":[50],\"dtype\":\"int32\",\"order\":\"little\"}],[\"word\",{\"type\":\"ndarray\",\"array\":[\"u\",\"2\",\"ur\",\"come\",\"know\",\"4\",\"ltgt\",\"good\",\"ok\",\"free\",\"like\",\"send\",\"want\",\"time\",\"day\",\"love\",\"text\",\"tell\",\"think\",\"need\",\"lor\",\"home\",\"stop\",\"reply\",\"txt\",\"r\",\"today\",\"new\",\"mobile\",\"ask\",\"n\",\"hi\",\"phone\",\"da\",\"sorry\",\"\\u00ec\",\"work\",\"win\",\"week\",\"hope\",\"miss\",\"hey\",\"night\",\"wait\",\"thing\",\"oh\",\"try\",\"s\",\"wat\",\"meet\"],\"shape\":[50],\"dtype\":\"object\",\"order\":\"little\"}],[\"frequency\",{\"type\":\"ndarray\",\"array\":{\"type\":\"bytes\",\"data\":\"6AMAALsBAAA8AQAALQEAAAYBAAABAQAA/gAAAP4AAAD7AAAA8wAAAPEAAADuAAAA7gAAAN4AAADXAAAAzQAAAMQAAADDAAAAwgAAALYAAACdAAAAmQAAAJEAAACNAAAAiwAAAIsAAACJAAAAgAAAAH8AAAB+AAAAfQAAAH0AAAB9AAAAfAAAAHoAAAB4AAAAdwAAAHUAAAB1AAAAcgAAAHAAAABvAAAAbwAAAG4AAABuAAAAbQAAAGwAAABqAAAAaQAAAGkAAAA=\"},\"shape\":[50],\"dtype\":\"int32\",\"order\":\"little\"}],[\"index\",{\"type\":\"ndarray\",\"array\":{\"type\":\"bytes\",\"data\":\"AAAAAAEAAAACAAAAAwAAAAQAAAAFAAAABgAAAAcAAAAIAAAACQAAAAoAAAALAAAADAAAAA0AAAAOAAAADwAAABAAAAARAAAAEgAAABMAAAAUAAAAFQAAABYAAAAXAAAAGAAAABkAAAAaAAAAGwAAABwAAAAdAAAAHgAAAB8AAAAgAAAAIQAAACIAAAAjAAAAJAAAACUAAAAmAAAAJwAAACgAAAApAAAAKgAAACsAAAAsAAAALQAAAC4AAAAvAAAAMAAAADEAAAA=\"},\"shape\":[50],\"dtype\":\"int32\",\"order\":\"little\"}]]}}},\"view\":{\"type\":\"object\",\"name\":\"CDSView\",\"id\":\"p1717\",\"attributes\":{\"filter\":{\"type\":\"object\",\"name\":\"AllIndices\",\"id\":\"p1718\"}}},\"glyph\":{\"type\":\"object\",\"name\":\"Scatter\",\"id\":\"p1713\",\"attributes\":{\"x\":{\"type\":\"field\",\"field\":\"frequency\"},\"y\":{\"type\":\"field\",\"field\":\"index\"},\"size\":{\"type\":\"value\",\"value\":8},\"line_color\":{\"type\":\"value\",\"value\":\"#1f77b4\"},\"fill_color\":{\"type\":\"value\",\"value\":\"#1f77b4\"}}},\"nonselection_glyph\":{\"type\":\"object\",\"name\":\"Scatter\",\"id\":\"p1714\",\"attributes\":{\"x\":{\"type\":\"field\",\"field\":\"frequency\"},\"y\":{\"type\":\"field\",\"field\":\"index\"},\"size\":{\"type\":\"value\",\"value\":8},\"line_color\":{\"type\":\"value\",\"value\":\"#1f77b4\"},\"line_alpha\":{\"type\":\"value\",\"value\":0.1},\"fill_color\":{\"type\":\"value\",\"value\":\"#1f77b4\"},\"fill_alpha\":{\"type\":\"value\",\"value\":0.1},\"hatch_alpha\":{\"type\":\"value\",\"value\":0.1}}},\"muted_glyph\":{\"type\":\"object\",\"name\":\"Scatter\",\"id\":\"p1715\",\"attributes\":{\"x\":{\"type\":\"field\",\"field\":\"frequency\"},\"y\":{\"type\":\"field\",\"field\":\"index\"},\"size\":{\"type\":\"value\",\"value\":8},\"line_color\":{\"type\":\"value\",\"value\":\"#1f77b4\"},\"line_alpha\":{\"type\":\"value\",\"value\":0.2},\"fill_color\":{\"type\":\"value\",\"value\":\"#1f77b4\"},\"fill_alpha\":{\"type\":\"value\",\"value\":0.2},\"hatch_alpha\":{\"type\":\"value\",\"value\":0.2}}}}}],\"toolbar\":{\"type\":\"object\",\"name\":\"Toolbar\",\"id\":\"p1669\",\"attributes\":{\"tools\":[{\"type\":\"object\",\"name\":\"PanTool\",\"id\":\"p1692\"},{\"type\":\"object\",\"name\":\"WheelZoomTool\",\"id\":\"p1693\"},{\"type\":\"object\",\"name\":\"BoxZoomTool\",\"id\":\"p1694\",\"attributes\":{\"overlay\":{\"type\":\"object\",\"name\":\"BoxAnnotation\",\"id\":\"p1695\",\"attributes\":{\"syncable\":false,\"level\":\"overlay\",\"visible\":false,\"left_units\":\"canvas\",\"right_units\":\"canvas\",\"bottom_units\":\"canvas\",\"top_units\":\"canvas\",\"line_color\":\"black\",\"line_alpha\":1.0,\"line_width\":2,\"line_dash\":[4,4],\"fill_color\":\"lightgrey\",\"fill_alpha\":0.5}}}},{\"type\":\"object\",\"name\":\"SaveTool\",\"id\":\"p1696\"},{\"type\":\"object\",\"name\":\"ResetTool\",\"id\":\"p1697\"},{\"type\":\"object\",\"name\":\"HelpTool\",\"id\":\"p1698\"}]}},\"left\":[{\"type\":\"object\",\"name\":\"LinearAxis\",\"id\":\"p1685\",\"attributes\":{\"ticker\":{\"type\":\"object\",\"name\":\"BasicTicker\",\"id\":\"p1687\",\"attributes\":{\"mantissas\":[1,2,5]}},\"formatter\":{\"type\":\"object\",\"name\":\"BasicTickFormatter\",\"id\":\"p1688\"},\"major_label_policy\":{\"type\":\"object\",\"name\":\"AllLabels\",\"id\":\"p1686\"}}}],\"below\":[{\"type\":\"object\",\"name\":\"LinearAxis\",\"id\":\"p1678\",\"attributes\":{\"ticker\":{\"type\":\"object\",\"name\":\"BasicTicker\",\"id\":\"p1680\",\"attributes\":{\"mantissas\":[1,2,5]}},\"formatter\":{\"type\":\"object\",\"name\":\"BasicTickFormatter\",\"id\":\"p1681\"},\"major_label_policy\":{\"type\":\"object\",\"name\":\"AllLabels\",\"id\":\"p1679\"}}}],\"center\":[{\"type\":\"object\",\"name\":\"Grid\",\"id\":\"p1684\",\"attributes\":{\"axis\":{\"id\":\"p1678\"}}},{\"type\":\"object\",\"name\":\"Grid\",\"id\":\"p1691\",\"attributes\":{\"dimension\":1,\"axis\":{\"id\":\"p1685\"}}},{\"type\":\"object\",\"name\":\"LabelSet\",\"id\":\"p1719\",\"attributes\":{\"source\":{\"id\":\"p1707\"},\"x\":{\"type\":\"field\",\"field\":\"frequency\"},\"y\":{\"type\":\"field\",\"field\":\"index\"},\"text\":{\"type\":\"field\",\"field\":\"word\"},\"x_offset\":{\"type\":\"value\",\"value\":8},\"text_color\":{\"type\":\"value\",\"value\":\"#555555\"},\"text_font_size\":{\"type\":\"value\",\"value\":\"10pt\"}}}]}}],\"callbacks\":{\"type\":\"map\"}}};\n  const render_items = [{\"docid\":\"fc278be2-e297-40d1-85fa-ca0a85683170\",\"roots\":{\"p1660\":\"bf8a29a3-9581-4f04-969a-dd041002e1ea\"},\"root_ids\":[\"p1660\"]}];\n  root.Bokeh.embed.embed_items_notebook(docs_json, render_items);\n  }\n  if (root.Bokeh !== undefined) {\n    embed_document(root);\n  } else {\n    let attempts = 0;\n    const timer = setInterval(function(root) {\n      if (root.Bokeh !== undefined) {\n        clearInterval(timer);\n        embed_document(root);\n      } else {\n        attempts++;\n        if (attempts > 100) {\n          clearInterval(timer);\n          console.log(\"Bokeh: ERROR: Unable to run BokehJS code because BokehJS library is missing\");\n        }\n      }\n    }, 10, root)\n  }\n})(window);",
      "application/vnd.bokehjs_exec.v0+json": ""
     },
     "metadata": {
      "application/vnd.bokehjs_exec.v0+json": {
       "id": "p1660"
      }
     },
     "output_type": "display_data"
    }
   ],
   "source": [
    "from bokeh.plotting import figure, show, output_notebook\n",
    "from bokeh.models import LabelSet, ColumnDataSource\n",
    "\n",
    "output_notebook()\n",
    "\n",
    "# Get the word frequencies from the tokenizer\n",
    "word_frequencies = tokenizer.word_counts\n",
    "\n",
    "# Sort the words by their frequencies, and keep the top N words\n",
    "top_n_words = 50\n",
    "sorted_word_frequencies = sorted(word_frequencies.items(), key=lambda x: x[1], reverse=True)[:top_n_words]\n",
    "\n",
    "# Create a pandas DataFrame from the word frequencies\n",
    "word_freq_df = pd.DataFrame(sorted_word_frequencies, columns=[\"word\", \"frequency\"])\n",
    "word_freq_df['index'] = word_freq_df.index\n",
    "\n",
    "# Create a scatter plot using bokeh\n",
    "p = figure(width=800, height=800, title=\"Top {} Most Frequent Words\".format(top_n_words))\n",
    "source = ColumnDataSource(word_freq_df)\n",
    "\n",
    "# Create scatter points and labels\n",
    "p.scatter(x=\"frequency\", y=\"index\", source=source, size=8)\n",
    "labels = LabelSet(x=\"frequency\", y=\"index\", text=\"word\", x_offset=8, text_font_size=\"10pt\", text_color=\"#555555\", source=source, text_align='left')\n",
    "p.add_layout(labels)\n",
    "\n",
    "# Show the plot\n",
    "show(p)\n"
   ]
  },
  {
   "cell_type": "code",
   "execution_count": 104,
   "metadata": {},
   "outputs": [
    {
     "data": {
      "text/html": [
       "<div>\n",
       "<style scoped>\n",
       "    .dataframe tbody tr th:only-of-type {\n",
       "        vertical-align: middle;\n",
       "    }\n",
       "\n",
       "    .dataframe tbody tr th {\n",
       "        vertical-align: top;\n",
       "    }\n",
       "\n",
       "    .dataframe thead th {\n",
       "        text-align: right;\n",
       "    }\n",
       "</style>\n",
       "<table border=\"1\" class=\"dataframe\">\n",
       "  <thead>\n",
       "    <tr style=\"text-align: right;\">\n",
       "      <th></th>\n",
       "      <th>type</th>\n",
       "      <th>message</th>\n",
       "      <th>mail_cleaned</th>\n",
       "      <th>mail_encoded</th>\n",
       "    </tr>\n",
       "  </thead>\n",
       "  <tbody>\n",
       "    <tr>\n",
       "      <th>0</th>\n",
       "      <td>0</td>\n",
       "      <td>Go until jurong point, crazy.. Available only ...</td>\n",
       "      <td>jurong point crazy available bugis n great wor...</td>\n",
       "      <td>[1, 214, 409, 485, 845, 32, 52, 264, 846, 74, ...</td>\n",
       "    </tr>\n",
       "    <tr>\n",
       "      <th>1</th>\n",
       "      <td>0</td>\n",
       "      <td>Ok lar... Joking wif u oni...</td>\n",
       "      <td>ok lar joke wif u oni</td>\n",
       "      <td>[10, 176, 486, 265, 2, 1]</td>\n",
       "    </tr>\n",
       "    <tr>\n",
       "      <th>2</th>\n",
       "      <td>1</td>\n",
       "      <td>Free entry in 2 a wkly comp to win FA Cup fina...</td>\n",
       "      <td>free entry 2 wkly comp win fa cup final tkts 2...</td>\n",
       "      <td>[11, 338, 3, 698, 699, 39, 1, 976, 458, 1, 1, ...</td>\n",
       "    </tr>\n",
       "    <tr>\n",
       "      <th>3</th>\n",
       "      <td>0</td>\n",
       "      <td>U dun say so early hor... U c already then say...</td>\n",
       "      <td>u dun early hor u c</td>\n",
       "      <td>[2, 114, 135, 1, 2, 78]</td>\n",
       "    </tr>\n",
       "    <tr>\n",
       "      <th>4</th>\n",
       "      <td>0</td>\n",
       "      <td>Nah I don't think he goes to usf, he lives aro...</td>\n",
       "      <td>nah think usf live</td>\n",
       "      <td>[662, 20, 597, 147]</td>\n",
       "    </tr>\n",
       "    <tr>\n",
       "      <th>5</th>\n",
       "      <td>1</td>\n",
       "      <td>FreeMsg Hey there darling it's been 3 week's n...</td>\n",
       "      <td>freemsg hey darle 3 week word like fun tb ok x...</td>\n",
       "      <td>[556, 43, 1, 96, 40, 130, 12, 223, 1, 10, 224,...</td>\n",
       "    </tr>\n",
       "    <tr>\n",
       "      <th>6</th>\n",
       "      <td>0</td>\n",
       "      <td>Even my brother is not like to speak with me. ...</td>\n",
       "      <td>brother like speak treat like aids patent</td>\n",
       "      <td>[384, 12, 172, 366, 12, 1, 1]</td>\n",
       "    </tr>\n",
       "    <tr>\n",
       "      <th>7</th>\n",
       "      <td>0</td>\n",
       "      <td>As per your request 'Melle Melle (Oru Minnamin...</td>\n",
       "      <td>request ' melle melle oru minnaminunginte nuru...</td>\n",
       "      <td>[763, 103, 1, 1, 1, 1, 1, 1, 103, 367, 1, 459,...</td>\n",
       "    </tr>\n",
       "    <tr>\n",
       "      <th>8</th>\n",
       "      <td>1</td>\n",
       "      <td>WINNER!! As a valued network customer you have...</td>\n",
       "      <td>winner value network customer select receivea ...</td>\n",
       "      <td>[515, 516, 242, 125, 271, 1, 979, 72, 700, 58,...</td>\n",
       "    </tr>\n",
       "    <tr>\n",
       "      <th>9</th>\n",
       "      <td>1</td>\n",
       "      <td>Had your mobile 11 months or more? U R entitle...</td>\n",
       "      <td>mobile 11 month u r entitle update late colour...</td>\n",
       "      <td>[30, 764, 160, 2, 27, 980, 368, 68, 385, 30, 2...</td>\n",
       "    </tr>\n",
       "    <tr>\n",
       "      <th>10</th>\n",
       "      <td>0</td>\n",
       "      <td>I'm gonna be home soon and i don't want to tal...</td>\n",
       "      <td>home soon want talk stuff anymore tonight k cr...</td>\n",
       "      <td>[23, 104, 14, 105, 141, 765, 106, 89, 981, 28]</td>\n",
       "    </tr>\n",
       "    <tr>\n",
       "      <th>11</th>\n",
       "      <td>1</td>\n",
       "      <td>SIX chances to win CASH! From 100 to 20,000 po...</td>\n",
       "      <td>chance win cash 100 20000 pound txt csh11 send...</td>\n",
       "      <td>[210, 39, 99, 460, 1, 301, 26, 1, 13, 1, 189, ...</td>\n",
       "    </tr>\n",
       "    <tr>\n",
       "      <th>12</th>\n",
       "      <td>1</td>\n",
       "      <td>URGENT! You have won a 1 week FREE membership ...</td>\n",
       "      <td>urgent win 1 week free membership å100000 priz...</td>\n",
       "      <td>[107, 39, 84, 40, 11, 1, 1, 72, 1, 26, 130, 58...</td>\n",
       "    </tr>\n",
       "    <tr>\n",
       "      <th>13</th>\n",
       "      <td>0</td>\n",
       "      <td>I've been searching for the right words to tha...</td>\n",
       "      <td>search right word thank breather promise help ...</td>\n",
       "      <td>[386, 69, 130, 55, 1, 517, 126, 1, 1, 517, 461...</td>\n",
       "    </tr>\n",
       "    <tr>\n",
       "      <th>14</th>\n",
       "      <td>0</td>\n",
       "      <td>I HAVE A DATE ON SUNDAY WITH WILL!!</td>\n",
       "      <td>date sunday</td>\n",
       "      <td>[195, 766]</td>\n",
       "    </tr>\n",
       "    <tr>\n",
       "      <th>15</th>\n",
       "      <td>1</td>\n",
       "      <td>XXXMobileMovieClub: To use your credit, click ...</td>\n",
       "      <td>xxxmobilemovieclub use credit click wap link t...</td>\n",
       "      <td>[1, 153, 287, 849, 702, 600, 26, 62, 849, 1, 1]</td>\n",
       "    </tr>\n",
       "    <tr>\n",
       "      <th>16</th>\n",
       "      <td>0</td>\n",
       "      <td>Oh k...i'm watching here:)</td>\n",
       "      <td>oh ki'm watching</td>\n",
       "      <td>[47, 1, 1]</td>\n",
       "    </tr>\n",
       "    <tr>\n",
       "      <th>17</th>\n",
       "      <td>0</td>\n",
       "      <td>Eh u remember how 2 spell his name... Yes i di...</td>\n",
       "      <td>eh u remember 2 spell yes v naughty v wet</td>\n",
       "      <td>[557, 2, 206, 3, 1, 79, 131, 982, 131, 1]</td>\n",
       "    </tr>\n",
       "    <tr>\n",
       "      <th>18</th>\n",
       "      <td>0</td>\n",
       "      <td>Fine if thatåÕs the way u feel. ThatåÕs the wa...</td>\n",
       "      <td>fine thatåõs way u feel thatåõs way gota b</td>\n",
       "      <td>[148, 1, 60, 2, 61, 1, 60, 1, 97]</td>\n",
       "    </tr>\n",
       "    <tr>\n",
       "      <th>19</th>\n",
       "      <td>1</td>\n",
       "      <td>England v Macedonia - dont miss the goals/team...</td>\n",
       "      <td>england v macedonia miss goalsteam news txt ur...</td>\n",
       "      <td>[767, 131, 1, 42, 1, 487, 26, 4, 601, 983, 768...</td>\n",
       "    </tr>\n",
       "  </tbody>\n",
       "</table>\n",
       "</div>"
      ],
      "text/plain": [
       "   type                                            message  \\\n",
       "0     0  Go until jurong point, crazy.. Available only ...   \n",
       "1     0                      Ok lar... Joking wif u oni...   \n",
       "2     1  Free entry in 2 a wkly comp to win FA Cup fina...   \n",
       "3     0  U dun say so early hor... U c already then say...   \n",
       "4     0  Nah I don't think he goes to usf, he lives aro...   \n",
       "5     1  FreeMsg Hey there darling it's been 3 week's n...   \n",
       "6     0  Even my brother is not like to speak with me. ...   \n",
       "7     0  As per your request 'Melle Melle (Oru Minnamin...   \n",
       "8     1  WINNER!! As a valued network customer you have...   \n",
       "9     1  Had your mobile 11 months or more? U R entitle...   \n",
       "10    0  I'm gonna be home soon and i don't want to tal...   \n",
       "11    1  SIX chances to win CASH! From 100 to 20,000 po...   \n",
       "12    1  URGENT! You have won a 1 week FREE membership ...   \n",
       "13    0  I've been searching for the right words to tha...   \n",
       "14    0                I HAVE A DATE ON SUNDAY WITH WILL!!   \n",
       "15    1  XXXMobileMovieClub: To use your credit, click ...   \n",
       "16    0                         Oh k...i'm watching here:)   \n",
       "17    0  Eh u remember how 2 spell his name... Yes i di...   \n",
       "18    0  Fine if thatåÕs the way u feel. ThatåÕs the wa...   \n",
       "19    1  England v Macedonia - dont miss the goals/team...   \n",
       "\n",
       "                                         mail_cleaned  \\\n",
       "0   jurong point crazy available bugis n great wor...   \n",
       "1                               ok lar joke wif u oni   \n",
       "2   free entry 2 wkly comp win fa cup final tkts 2...   \n",
       "3                                 u dun early hor u c   \n",
       "4                                  nah think usf live   \n",
       "5   freemsg hey darle 3 week word like fun tb ok x...   \n",
       "6           brother like speak treat like aids patent   \n",
       "7   request ' melle melle oru minnaminunginte nuru...   \n",
       "8   winner value network customer select receivea ...   \n",
       "9   mobile 11 month u r entitle update late colour...   \n",
       "10  home soon want talk stuff anymore tonight k cr...   \n",
       "11  chance win cash 100 20000 pound txt csh11 send...   \n",
       "12  urgent win 1 week free membership å100000 priz...   \n",
       "13  search right word thank breather promise help ...   \n",
       "14                                        date sunday   \n",
       "15  xxxmobilemovieclub use credit click wap link t...   \n",
       "16                                   oh ki'm watching   \n",
       "17          eh u remember 2 spell yes v naughty v wet   \n",
       "18         fine thatåõs way u feel thatåõs way gota b   \n",
       "19  england v macedonia miss goalsteam news txt ur...   \n",
       "\n",
       "                                         mail_encoded  \n",
       "0   [1, 214, 409, 485, 845, 32, 52, 264, 846, 74, ...  \n",
       "1                           [10, 176, 486, 265, 2, 1]  \n",
       "2   [11, 338, 3, 698, 699, 39, 1, 976, 458, 1, 1, ...  \n",
       "3                             [2, 114, 135, 1, 2, 78]  \n",
       "4                                 [662, 20, 597, 147]  \n",
       "5   [556, 43, 1, 96, 40, 130, 12, 223, 1, 10, 224,...  \n",
       "6                       [384, 12, 172, 366, 12, 1, 1]  \n",
       "7   [763, 103, 1, 1, 1, 1, 1, 1, 103, 367, 1, 459,...  \n",
       "8   [515, 516, 242, 125, 271, 1, 979, 72, 700, 58,...  \n",
       "9   [30, 764, 160, 2, 27, 980, 368, 68, 385, 30, 2...  \n",
       "10     [23, 104, 14, 105, 141, 765, 106, 89, 981, 28]  \n",
       "11  [210, 39, 99, 460, 1, 301, 26, 1, 13, 1, 189, ...  \n",
       "12  [107, 39, 84, 40, 11, 1, 1, 72, 1, 26, 130, 58...  \n",
       "13  [386, 69, 130, 55, 1, 517, 126, 1, 1, 517, 461...  \n",
       "14                                         [195, 766]  \n",
       "15    [1, 153, 287, 849, 702, 600, 26, 62, 849, 1, 1]  \n",
       "16                                         [47, 1, 1]  \n",
       "17          [557, 2, 206, 3, 1, 79, 131, 982, 131, 1]  \n",
       "18                  [148, 1, 60, 2, 61, 1, 60, 1, 97]  \n",
       "19  [767, 131, 1, 42, 1, 487, 26, 4, 601, 983, 768...  "
      ]
     },
     "execution_count": 104,
     "metadata": {},
     "output_type": "execute_result"
    }
   ],
   "source": [
    "df.head(20)"
   ]
  },
  {
   "cell_type": "code",
   "execution_count": 105,
   "metadata": {},
   "outputs": [
    {
     "name": "stdout",
     "output_type": "stream",
     "text": [
      "Number of empty rows in 'mail_cleaned': 18\n"
     ]
    }
   ],
   "source": [
    "# Find rows with empty 'mail_cleaned' values\n",
    "empty_rows = df['mail_cleaned'].apply(lambda x: len(x.strip()) == 0)\n",
    "\n",
    "# Counting the number of empty rows\n",
    "empty_row_count = sum(empty_rows)\n",
    "print(f\"Number of empty rows in 'mail_cleaned': {empty_row_count}\")\n",
    "df = df[~empty_rows] # deleting empty rows"
   ]
  },
  {
   "cell_type": "code",
   "execution_count": 106,
   "metadata": {},
   "outputs": [],
   "source": [
    "# Pad the sequences\n",
    "messages_pad = tf.keras.preprocessing.sequence.pad_sequences(df.mail_encoded, padding=\"post\")\n",
    "\n",
    "# Train-test split\n",
    "xtrain, xval, ytrain, yval = train_test_split(messages_pad, df.type, test_size=0.3, random_state=42)"
   ]
  },
  {
   "cell_type": "code",
   "execution_count": 107,
   "metadata": {},
   "outputs": [],
   "source": [
    "# Create tf.data datasets for training and validation\n",
    "train = tf.data.Dataset.from_tensor_slices((xtrain, ytrain))\n",
    "val = tf.data.Dataset.from_tensor_slices((xval, yval))\n",
    "\n",
    "train_batch = train.shuffle(len(train)).batch(64)\n",
    "val_batch = val.shuffle(len(val)).batch(64)"
   ]
  },
  {
   "cell_type": "code",
   "execution_count": 108,
   "metadata": {},
   "outputs": [
    {
     "name": "stdout",
     "output_type": "stream",
     "text": [
      "Model: \"sequential_4\"\n",
      "_________________________________________________________________\n",
      " Layer (type)                Output Shape              Param #   \n",
      "=================================================================\n",
      " embedding (Embedding)       (None, 74, 32)            32032     \n",
      "                                                                 \n",
      " global_average_pooling1d_4   (None, 32)               0         \n",
      " (GlobalAveragePooling1D)                                        \n",
      "                                                                 \n",
      " dense_13 (Dense)            (None, 32)                1056      \n",
      "                                                                 \n",
      " dense_14 (Dense)            (None, 1)                 33        \n",
      "                                                                 \n",
      "=================================================================\n",
      "Total params: 33,121\n",
      "Trainable params: 33,121\n",
      "Non-trainable params: 0\n",
      "_________________________________________________________________\n"
     ]
    }
   ],
   "source": [
    "# Define the model architecture\n",
    "vocab_size = tokenizer.num_words\n",
    "max_len = messages_pad.shape[1]\n",
    "model = tf.keras.Sequential([\n",
    "    # Input Word Embedding layer\n",
    "    tf.keras.layers.Embedding(vocab_size+1, 32, input_length=max_len, name=\"embedding\"),\n",
    "    # Global average pooling\n",
    "    tf.keras.layers.GlobalAveragePooling1D(),\n",
    "    tf.keras.layers.Dense(32, activation='relu'),\n",
    "    # Output layer\n",
    "    tf.keras.layers.Dense(1, activation=\"sigmoid\")\n",
    "])\n",
    "\n",
    "# Compile the model\n",
    "model.compile(\n",
    "    loss=tf.keras.losses.BinaryCrossentropy(),\n",
    "    optimizer=tf.keras.optimizers.Adam(learning_rate=0.001),\n",
    "    metrics=[tf.keras.metrics.BinaryAccuracy()]\n",
    ")\n",
    "\n",
    "model.summary()"
   ]
  },
  {
   "cell_type": "code",
   "execution_count": 109,
   "metadata": {},
   "outputs": [
    {
     "name": "stdout",
     "output_type": "stream",
     "text": [
      "Epoch 1/100\n"
     ]
    },
    {
     "name": "stderr",
     "output_type": "stream",
     "text": [
      "2023-04-05 15:21:41.137334: I tensorflow/core/grappler/optimizers/custom_graph_optimizer_registry.cc:114] Plugin optimizer for device_type GPU is enabled.\n"
     ]
    },
    {
     "name": "stdout",
     "output_type": "stream",
     "text": [
      "57/57 [==============================] - ETA: 0s - loss: 0.5666 - binary_accuracy: 0.8716"
     ]
    },
    {
     "name": "stderr",
     "output_type": "stream",
     "text": [
      "2023-04-05 15:21:43.611874: I tensorflow/core/grappler/optimizers/custom_graph_optimizer_registry.cc:114] Plugin optimizer for device_type GPU is enabled.\n"
     ]
    },
    {
     "name": "stdout",
     "output_type": "stream",
     "text": [
      "57/57 [==============================] - 3s 44ms/step - loss: 0.5666 - binary_accuracy: 0.8716 - val_loss: 0.4345 - val_binary_accuracy: 0.8771\n",
      "Epoch 2/100\n",
      "57/57 [==============================] - 2s 29ms/step - loss: 0.3752 - binary_accuracy: 0.8716 - val_loss: 0.3373 - val_binary_accuracy: 0.8771\n",
      "Epoch 3/100\n",
      "57/57 [==============================] - 1s 26ms/step - loss: 0.3375 - binary_accuracy: 0.8716 - val_loss: 0.3200 - val_binary_accuracy: 0.8771\n",
      "Epoch 4/100\n",
      "57/57 [==============================] - 1s 25ms/step - loss: 0.3158 - binary_accuracy: 0.8716 - val_loss: 0.2951 - val_binary_accuracy: 0.8771\n",
      "Epoch 5/100\n",
      "57/57 [==============================] - 1s 25ms/step - loss: 0.2833 - binary_accuracy: 0.8716 - val_loss: 0.2571 - val_binary_accuracy: 0.8771\n",
      "Epoch 6/100\n",
      "57/57 [==============================] - 1s 25ms/step - loss: 0.2395 - binary_accuracy: 0.8716 - val_loss: 0.2141 - val_binary_accuracy: 0.8771\n",
      "Epoch 7/100\n",
      "57/57 [==============================] - 1s 23ms/step - loss: 0.2029 - binary_accuracy: 0.8716 - val_loss: 0.1857 - val_binary_accuracy: 0.8771\n",
      "Epoch 8/100\n",
      "57/57 [==============================] - 2s 28ms/step - loss: 0.1819 - binary_accuracy: 0.8716 - val_loss: 0.1715 - val_binary_accuracy: 0.8771\n",
      "Epoch 9/100\n",
      "57/57 [==============================] - 1s 24ms/step - loss: 0.1690 - binary_accuracy: 0.9151 - val_loss: 0.1603 - val_binary_accuracy: 0.9431\n",
      "Epoch 10/100\n",
      "57/57 [==============================] - 1s 24ms/step - loss: 0.1605 - binary_accuracy: 0.9534 - val_loss: 0.1531 - val_binary_accuracy: 0.9476\n",
      "Epoch 11/100\n",
      "57/57 [==============================] - 1s 24ms/step - loss: 0.1529 - binary_accuracy: 0.9584 - val_loss: 0.1482 - val_binary_accuracy: 0.9528\n",
      "Epoch 12/100\n",
      "57/57 [==============================] - 1s 26ms/step - loss: 0.1470 - binary_accuracy: 0.9628 - val_loss: 0.1416 - val_binary_accuracy: 0.9573\n",
      "Epoch 13/100\n",
      "57/57 [==============================] - 1s 23ms/step - loss: 0.1385 - binary_accuracy: 0.9675 - val_loss: 0.1314 - val_binary_accuracy: 0.9657\n",
      "Epoch 14/100\n",
      "57/57 [==============================] - 1s 23ms/step - loss: 0.1243 - binary_accuracy: 0.9709 - val_loss: 0.1177 - val_binary_accuracy: 0.9696\n",
      "Epoch 15/100\n",
      "57/57 [==============================] - 1s 23ms/step - loss: 0.1076 - binary_accuracy: 0.9748 - val_loss: 0.1030 - val_binary_accuracy: 0.9709\n",
      "Epoch 16/100\n",
      "57/57 [==============================] - 1s 23ms/step - loss: 0.0883 - binary_accuracy: 0.9784 - val_loss: 0.0874 - val_binary_accuracy: 0.9748\n",
      "Epoch 17/100\n",
      "57/57 [==============================] - 1s 22ms/step - loss: 0.0715 - binary_accuracy: 0.9817 - val_loss: 0.0826 - val_binary_accuracy: 0.9735\n",
      "Epoch 18/100\n",
      "57/57 [==============================] - 1s 23ms/step - loss: 0.0596 - binary_accuracy: 0.9817 - val_loss: 0.0727 - val_binary_accuracy: 0.9761\n",
      "Epoch 19/100\n",
      "57/57 [==============================] - 1s 22ms/step - loss: 0.0534 - binary_accuracy: 0.9836 - val_loss: 0.0688 - val_binary_accuracy: 0.9774\n",
      "Epoch 20/100\n",
      "57/57 [==============================] - 1s 23ms/step - loss: 0.0465 - binary_accuracy: 0.9853 - val_loss: 0.0696 - val_binary_accuracy: 0.9806\n",
      "Epoch 21/100\n",
      "57/57 [==============================] - 1s 25ms/step - loss: 0.0428 - binary_accuracy: 0.9867 - val_loss: 0.0628 - val_binary_accuracy: 0.9832\n",
      "Epoch 22/100\n",
      "57/57 [==============================] - 1s 23ms/step - loss: 0.0389 - binary_accuracy: 0.9889 - val_loss: 0.0615 - val_binary_accuracy: 0.9832\n",
      "Epoch 23/100\n",
      "57/57 [==============================] - 1s 23ms/step - loss: 0.0364 - binary_accuracy: 0.9889 - val_loss: 0.0608 - val_binary_accuracy: 0.9825\n",
      "Epoch 24/100\n",
      "57/57 [==============================] - 1s 23ms/step - loss: 0.0338 - binary_accuracy: 0.9906 - val_loss: 0.0614 - val_binary_accuracy: 0.9832\n",
      "Epoch 25/100\n",
      "57/57 [==============================] - 1s 23ms/step - loss: 0.0310 - binary_accuracy: 0.9914 - val_loss: 0.0608 - val_binary_accuracy: 0.9838\n",
      "Epoch 26/100\n",
      "57/57 [==============================] - 1s 23ms/step - loss: 0.0294 - binary_accuracy: 0.9914 - val_loss: 0.0602 - val_binary_accuracy: 0.9845\n",
      "Epoch 27/100\n",
      "57/57 [==============================] - 1s 22ms/step - loss: 0.0274 - binary_accuracy: 0.9917 - val_loss: 0.0606 - val_binary_accuracy: 0.9825\n",
      "Epoch 28/100\n",
      "57/57 [==============================] - 1s 23ms/step - loss: 0.0259 - binary_accuracy: 0.9920 - val_loss: 0.0607 - val_binary_accuracy: 0.9819\n",
      "Epoch 29/100\n",
      "57/57 [==============================] - 1s 23ms/step - loss: 0.0265 - binary_accuracy: 0.9908 - val_loss: 0.0649 - val_binary_accuracy: 0.9799\n",
      "Epoch 30/100\n",
      "57/57 [==============================] - 1s 22ms/step - loss: 0.0232 - binary_accuracy: 0.9933 - val_loss: 0.0620 - val_binary_accuracy: 0.9812\n",
      "Epoch 31/100\n",
      "57/57 [==============================] - 1s 22ms/step - loss: 0.0227 - binary_accuracy: 0.9931 - val_loss: 0.0622 - val_binary_accuracy: 0.9825\n",
      "Epoch 32/100\n",
      "57/57 [==============================] - 1s 22ms/step - loss: 0.0212 - binary_accuracy: 0.9936 - val_loss: 0.0636 - val_binary_accuracy: 0.9825\n",
      "Epoch 33/100\n",
      "57/57 [==============================] - 1s 22ms/step - loss: 0.0209 - binary_accuracy: 0.9942 - val_loss: 0.0643 - val_binary_accuracy: 0.9806\n",
      "Epoch 34/100\n",
      "57/57 [==============================] - 1s 23ms/step - loss: 0.0199 - binary_accuracy: 0.9942 - val_loss: 0.0644 - val_binary_accuracy: 0.9819\n",
      "Epoch 35/100\n",
      "57/57 [==============================] - 1s 23ms/step - loss: 0.0191 - binary_accuracy: 0.9939 - val_loss: 0.0647 - val_binary_accuracy: 0.9812\n",
      "Epoch 36/100\n",
      "57/57 [==============================] - 1s 22ms/step - loss: 0.0178 - binary_accuracy: 0.9950 - val_loss: 0.0655 - val_binary_accuracy: 0.9812\n"
     ]
    }
   ],
   "source": [
    "# Define the tensorboard callback\n",
    "tensorboard_callback = tf.keras.callbacks.TensorBoard(log_dir=\"logs\")\n",
    "\n",
    "# Define the early stopping callback\n",
    "early_stop = tf.keras.callbacks.EarlyStopping(monitor='val_loss', patience=10)\n",
    "\n",
    "# Train the model with early stopping and tensorboard callbacks\n",
    "history = model.fit(\n",
    "    train_batch,\n",
    "    epochs=100,\n",
    "    validation_data=val_batch,\n",
    "    callbacks=[tensorboard_callback, early_stop]\n",
    ")"
   ]
  },
  {
   "cell_type": "code",
   "execution_count": 110,
   "metadata": {},
   "outputs": [
    {
     "name": "stdout",
     "output_type": "stream",
     "text": [
      "25/25 [==============================] - 0s 5ms/step - loss: 0.0655 - binary_accuracy: 0.9812\n",
      "Validation loss:  0.06551961600780487\n",
      "Validation accuracy:  0.9812419414520264\n"
     ]
    }
   ],
   "source": [
    "# Evaluate the model on the validation set\n",
    "val_loss, val_accuracy = model.evaluate(val_batch)\n",
    "print(\"Validation loss: \", val_loss)\n",
    "print(\"Validation accuracy: \", val_accuracy)"
   ]
  },
  {
   "cell_type": "code",
   "execution_count": 111,
   "metadata": {},
   "outputs": [
    {
     "data": {
      "image/png": "[encoded data removed]",
      "text/plain": [
       "<Figure size 1400x400 with 1 Axes>"
      ]
     },
     "metadata": {},
     "output_type": "display_data"
    }
   ],
   "source": [
    "fig, ax1 = plt.subplots(1, 1, figsize=(14, 4))\n",
    "\n",
    "# Plot training and validation loss\n",
    "ax1.plot(history.history['loss'], label='Training Loss')\n",
    "ax1.plot(history.history['val_loss'], label='Validation Loss')\n",
    "ax1.set_title('Training and Validation Loss')\n",
    "ax1.set_xlabel('Epoch')\n",
    "ax1.set_ylabel('Loss')\n",
    "ax1.legend()\n",
    "\n",
    "plt.show()"
   ]
  },
  {
   "cell_type": "code",
   "execution_count": 112,
   "metadata": {},
   "outputs": [
    {
     "data": {
      "image/png": "[encoded data removed]",
      "text/plain": [
       "<Figure size 1400x400 with 1 Axes>"
      ]
     },
     "metadata": {},
     "output_type": "display_data"
    }
   ],
   "source": [
    "fig, ax2 = plt.subplots(1, 1, figsize=(14, 4))\n",
    "\n",
    "# Plot training and validation accuracy\n",
    "ax2.plot(history.history['binary_accuracy'], label='Training Accuracy')\n",
    "ax2.plot(history.history['val_binary_accuracy'], label='Validation Accuracy')\n",
    "ax2.set_title('Training and Validation Accuracy')\n",
    "ax2.set_xlabel('Epoch')\n",
    "ax2.set_ylabel('Accuracy')\n",
    "ax2.legend()\n",
    "\n",
    "plt.show()"
   ]
  },
  {
   "cell_type": "code",
   "execution_count": 113,
   "metadata": {},
   "outputs": [
    {
     "name": "stdout",
     "output_type": "stream",
     "text": [
      "49/49 [==============================] - 0s 3ms/step\n"
     ]
    },
    {
     "name": "stderr",
     "output_type": "stream",
     "text": [
      "2023-04-05 15:22:31.810517: I tensorflow/core/grappler/optimizers/custom_graph_optimizer_registry.cc:114] Plugin optimizer for device_type GPU is enabled.\n"
     ]
    },
    {
     "data": {
      "image/png": "[encoded data removed]",
      "text/plain": [
       "<Figure size 600x600 with 1 Axes>"
      ]
     },
     "metadata": {},
     "output_type": "display_data"
    }
   ],
   "source": [
    "# Predict the probabilities on the validation set\n",
    "y_pred_probs = model.predict(xval)\n",
    "\n",
    "# Apply a threshold (0.5) to obtain class labels\n",
    "y_pred = (y_pred_probs > 0.5).astype(int).reshape(-1)\n",
    "\n",
    "# Compute the confusion matrix\n",
    "cm = confusion_matrix(yval, y_pred)\n",
    "\n",
    "# Plot the confusion matrix as a heatmap\n",
    "plt.figure(figsize=(6, 6))\n",
    "sns.heatmap(cm, annot=True, fmt='d', cmap='Blues', cbar=False)\n",
    "plt.title('Confusion Matrix')\n",
    "plt.xlabel('Predicted Label')\n",
    "plt.ylabel('True Label')\n",
    "plt.xticks([0.5, 1.5], ['Ham', 'Spam'])\n",
    "plt.yticks([0.5, 1.5], ['Ham', 'Spam'], va='center')\n",
    "plt.show()"
   ]
  },
  {
   "cell_type": "code",
   "execution_count": 114,
   "metadata": {},
   "outputs": [
    {
     "name": "stdout",
     "output_type": "stream",
     "text": [
      "              precision    recall  f1-score   support\n",
      "\n",
      "         ham       0.99      0.99      0.99      1356\n",
      "        spam       0.94      0.90      0.92       190\n",
      "\n",
      "    accuracy                           0.98      1546\n",
      "   macro avg       0.97      0.95      0.96      1546\n",
      "weighted avg       0.98      0.98      0.98      1546\n",
      "\n"
     ]
    }
   ],
   "source": [
    "# Compute the classification report\n",
    "report = classification_report(yval, y_pred, target_names=['ham', 'spam'])\n",
    "\n",
    "# Print the classification report\n",
    "print(report)"
   ]
  },
  {
   "cell_type": "code",
   "execution_count": 115,
   "metadata": {},
   "outputs": [
    {
     "name": "stdout",
     "output_type": "stream",
     "text": [
      "Initial dataset proportions:\n",
      "0    0.873228\n",
      "1    0.126772\n",
      "Name: type, dtype: float64\n",
      "\n",
      "Training set proportions:\n",
      "0    0.871567\n",
      "1    0.128433\n",
      "Name: type, dtype: float64\n",
      "\n",
      "Validation set proportions:\n",
      "0    0.877102\n",
      "1    0.122898\n",
      "Name: type, dtype: float64\n"
     ]
    }
   ],
   "source": [
    "# Proportion of ham/spam in the initial dataset\n",
    "initial_counts = df.type.value_counts(normalize=True)\n",
    "print(\"Initial dataset proportions:\")\n",
    "print(initial_counts)\n",
    "\n",
    "# Proportion of ham/spam in the training set\n",
    "train_counts = pd.Series(ytrain).value_counts(normalize=True)\n",
    "print(\"\\nTraining set proportions:\")\n",
    "print(train_counts)\n",
    "\n",
    "# Proportion of ham/spam in the validation set\n",
    "val_counts = pd.Series(yval).value_counts(normalize=True)\n",
    "print(\"\\nValidation set proportions:\")\n",
    "print(val_counts)"
   ]
  }
 ],
 "metadata": {
  "kernelspec": {
   "display_name": "deeplearning",
   "language": "python",
   "name": "python3"
  },
  "language_info": {
   "codemirror_mode": {
    "name": "ipython",
    "version": 3
   },
   "file_extension": ".py",
   "mimetype": "text/x-python",
   "name": "python",
   "nbconvert_exporter": "python",
   "pygments_lexer": "ipython3",
   "version": "3.9.15"
  },
  "orig_nbformat": 4,
  "vscode": {
   "interpreter": {
    "hash": "d2868b667b5c8654c5c0cb9fb6825abc04da16a11e9ec72eb9801194a65bcfec"
   }
  }
 },
 "nbformat": 4,
 "nbformat_minor": 2
}
